{
 "cells": [
  {
   "cell_type": "markdown",
   "id": "a12b3515-5f62-41ac-abce-b166b09c3c71",
   "metadata": {},
   "source": [
    "# BIG DATA PROCESSIN PROJECT"
   ]
  },
  {
   "cell_type": "code",
   "execution_count": 1,
   "id": "6dffb38c-b5ba-4283-8aec-0f79d6bfad34",
   "metadata": {},
   "outputs": [],
   "source": [
    "from pyspark.sql import SparkSession\n",
    "from pyspark.sql.functions import desc, col, isnan, when, count, mean ,stddev, expr\n",
    "\n",
    "from pyspark.sql.types import StructType, StructField, StringType, DoubleType"
   ]
  },
  {
   "cell_type": "markdown",
   "id": "45f9f83f-b6bc-42a9-929f-54f5cebc0433",
   "metadata": {},
   "source": [
    "## 1. Create a SparkSession"
   ]
  },
  {
   "cell_type": "code",
   "execution_count": 2,
   "id": "330e09a9-f1a7-4287-be7a-139b959716b3",
   "metadata": {},
   "outputs": [
    {
     "name": "stderr",
     "output_type": "stream",
     "text": [
      "Setting default log level to \"WARN\".\n",
      "To adjust logging level use sc.setLogLevel(newLevel). For SparkR, use setLogLevel(newLevel).\n",
      "24/11/11 16:26:50 WARN NativeCodeLoader: Unable to load native-hadoop library for your platform... using builtin-java classes where applicable\n"
     ]
    }
   ],
   "source": [
    "spark = SparkSession.builder.appName(\"Spotify\").getOrCreate()"
   ]
  },
  {
   "cell_type": "code",
   "execution_count": 3,
   "id": "2fee0ae2-1b30-4f22-acd1-f6241cd50055",
   "metadata": {},
   "outputs": [
    {
     "data": {
      "text/html": [
       "\n",
       "            <div>\n",
       "                <p><b>SparkSession - in-memory</b></p>\n",
       "                \n",
       "        <div>\n",
       "            <p><b>SparkContext</b></p>\n",
       "\n",
       "            <p><a href=\"http://macbook-air.station:4040\">Spark UI</a></p>\n",
       "\n",
       "            <dl>\n",
       "              <dt>Version</dt>\n",
       "                <dd><code>v3.5.3</code></dd>\n",
       "              <dt>Master</dt>\n",
       "                <dd><code>local[*]</code></dd>\n",
       "              <dt>AppName</dt>\n",
       "                <dd><code>Spotify</code></dd>\n",
       "            </dl>\n",
       "        </div>\n",
       "        \n",
       "            </div>\n",
       "        "
      ],
      "text/plain": [
       "<pyspark.sql.session.SparkSession at 0x107227800>"
      ]
     },
     "execution_count": 3,
     "metadata": {},
     "output_type": "execute_result"
    },
    {
     "name": "stderr",
     "output_type": "stream",
     "text": [
      "24/11/11 16:27:04 WARN GarbageCollectionMetrics: To enable non-built-in garbage collector(s) List(G1 Concurrent GC), users should configure it(them) to spark.eventLog.gcMetrics.youngGenerationGarbageCollectors or spark.eventLog.gcMetrics.oldGenerationGarbageCollectors\n"
     ]
    }
   ],
   "source": [
    "spark"
   ]
  },
  {
   "cell_type": "markdown",
   "id": "75b02f4e-3999-4c5a-a8da-bcb852dd9ad0",
   "metadata": {},
   "source": [
    "## 2. Data loading and cleaning\n",
    "### 2.1 Read CSV File into DataFrame"
   ]
  },
  {
   "cell_type": "code",
   "execution_count": 5,
   "id": "5130e639-dc8f-4722-ba40-c09288c47119",
   "metadata": {},
   "outputs": [],
   "source": [
    "# Read CSV file into DataFrame with header\n",
    "csv_file_path =(\"./data/spotify-data.csv\")\n",
    "df = spark.read.csv(csv_file_path,header=True)"
   ]
  },
  {
   "cell_type": "code",
   "execution_count": 6,
   "id": "efaf140b-695a-4b30-937f-b3d7707f1c77",
   "metadata": {},
   "outputs": [
    {
     "name": "stdout",
     "output_type": "stream",
     "text": [
      "root\n",
      " |-- id: string (nullable = true)\n",
      " |-- name: string (nullable = true)\n",
      " |-- artists: string (nullable = true)\n",
      " |-- duration_ms: string (nullable = true)\n",
      " |-- release_date: string (nullable = true)\n",
      " |-- year: string (nullable = true)\n",
      " |-- acousticness: string (nullable = true)\n",
      " |-- danceability: string (nullable = true)\n",
      " |-- energy: string (nullable = true)\n",
      " |-- instrumentalness: string (nullable = true)\n",
      " |-- liveness: string (nullable = true)\n",
      " |-- loudness: string (nullable = true)\n",
      " |-- speechiness: string (nullable = true)\n",
      " |-- tempo: string (nullable = true)\n",
      " |-- valence: string (nullable = true)\n",
      " |-- mode: string (nullable = true)\n",
      " |-- key: string (nullable = true)\n",
      " |-- popularity: string (nullable = true)\n",
      " |-- explicit: string (nullable = true)\n",
      "\n"
     ]
    }
   ],
   "source": [
    "# Display schema of DataFrame\n",
    "df.printSchema()"
   ]
  },
  {
   "cell_type": "markdown",
   "id": "0b646ca6-908e-4676-a2dd-e2a4acea0d11",
   "metadata": {},
   "source": [
    "### 2.2. Read CSV File into DataFrame with my_schema"
   ]
  },
  {
   "cell_type": "markdown",
   "id": "a14f7ec0-ca0d-4b2c-9546-17c120e970b5",
   "metadata": {},
   "source": [
    "- id: str, identifier of the track.\n",
    "- name: str, name of the track.\n",
    "- artists: str, artists of the track.\n",
    "- duration_ms: float, duration of the track in milliseconds.\n",
    "- release_date: date, release date of the track.\n",
    "- year: int, release year of the track.\n",
    "- acousticness: float, measure of acousticness of the track.\n",
    "- danceability: float, measure of danceability of the track.\n",
    "- energy: float, measure of energy of the track.\n",
    "- instrumentalness: float, measure of instrumental elements in the track.\n",
    "- liveness: float, measure of liveness of the track.\n",
    "- loudness: float, loudness of the track.\n",
    "- speechiness: float, measure of speechiness in the track.\n",
    "- tempo: float, tempo of the track.\n",
    "- valence: float, measure of valence (positivity) of the track.\n",
    "- mode: int, mode of the track (major or minor).\n",
    "- key: int, key of the track.\n",
    "- popularity: int, popularity score of the track.\n",
    "- explicit: int, indication of explicit content presence (explicit or implicit)."
   ]
  },
  {
   "cell_type": "code",
   "execution_count": null,
   "id": "71d1341f-aaf6-4666-9a96-1e1f3628235e",
   "metadata": {},
   "outputs": [],
   "source": [
    "df_schema = StructType([\n",
    "    StructField(\"id\", StringType(), True),\n",
    "    StructField(\"name\", StringType(),True),\n",
    "    StructField(\"artists\", StringType(),True),\n",
    "    StructField(\"duration_ms\", DoubleType, True),\n",
    "    StructField(\"date\" DateType(),True)"
   ]
  },
  {
   "cell_type": "code",
   "execution_count": null,
   "id": "31d73f8e-b86e-4b07-a542-5b7ebb51705b",
   "metadata": {},
   "outputs": [],
   "source": []
  },
  {
   "cell_type": "code",
   "execution_count": null,
   "id": "10c506c0-76f0-4743-baf6-4f6fa6ec7716",
   "metadata": {},
   "outputs": [],
   "source": []
  },
  {
   "cell_type": "code",
   "execution_count": null,
   "id": "45907e1b-3e51-4418-a7c0-7092782360e2",
   "metadata": {},
   "outputs": [],
   "source": []
  },
  {
   "cell_type": "code",
   "execution_count": null,
   "id": "08a93c81-22a3-4a10-9247-844acd173ae2",
   "metadata": {},
   "outputs": [],
   "source": []
  },
  {
   "cell_type": "code",
   "execution_count": null,
   "id": "b98734c6-b023-4b50-aa09-e5a8cafbd7d8",
   "metadata": {},
   "outputs": [],
   "source": []
  },
  {
   "cell_type": "code",
   "execution_count": null,
   "id": "9b69bcdd-97cc-4e23-9794-e6eba7703e92",
   "metadata": {},
   "outputs": [],
   "source": []
  },
  {
   "cell_type": "code",
   "execution_count": null,
   "id": "c707863d-0fd1-4016-831d-faa9782e2204",
   "metadata": {},
   "outputs": [],
   "source": []
  },
  {
   "cell_type": "code",
   "execution_count": null,
   "id": "a65c129a-9d13-4b64-b284-0dd36e631752",
   "metadata": {},
   "outputs": [],
   "source": []
  }
 ],
 "metadata": {
  "kernelspec": {
   "display_name": "Python 3 (ipykernel)",
   "language": "python",
   "name": "python3"
  },
  "language_info": {
   "codemirror_mode": {
    "name": "ipython",
    "version": 3
   },
   "file_extension": ".py",
   "mimetype": "text/x-python",
   "name": "python",
   "nbconvert_exporter": "python",
   "pygments_lexer": "ipython3",
   "version": "3.12.4"
  }
 },
 "nbformat": 4,
 "nbformat_minor": 5
}

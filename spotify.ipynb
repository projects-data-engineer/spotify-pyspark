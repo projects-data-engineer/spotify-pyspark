{
 "cells": [
  {
   "cell_type": "markdown",
   "id": "a12b3515-5f62-41ac-abce-b166b09c3c71",
   "metadata": {},
   "source": [
    "# BIG DATA PROCESSIN PROJECT"
   ]
  },
  {
   "cell_type": "code",
   "execution_count": 11,
   "id": "6dffb38c-b5ba-4283-8aec-0f79d6bfad34",
   "metadata": {},
   "outputs": [],
   "source": [
    "from pyspark.sql import SparkSession\n",
    "from pyspark.sql.functions import desc, col, isnan, when, count, mean ,stddev, expr\n",
    "\n",
    "from pyspark.sql.types import StructType, StructField, StringType, DoubleType, DateType, IntegerType"
   ]
  },
  {
   "cell_type": "markdown",
   "id": "45f9f83f-b6bc-42a9-929f-54f5cebc0433",
   "metadata": {},
   "source": [
    "## 1. Create a SparkSession"
   ]
  },
  {
   "cell_type": "code",
   "execution_count": 2,
   "id": "330e09a9-f1a7-4287-be7a-139b959716b3",
   "metadata": {},
   "outputs": [
    {
     "name": "stderr",
     "output_type": "stream",
     "text": [
      "Setting default log level to \"WARN\".\n",
      "To adjust logging level use sc.setLogLevel(newLevel). For SparkR, use setLogLevel(newLevel).\n",
      "24/11/14 10:16:12 WARN NativeCodeLoader: Unable to load native-hadoop library for your platform... using builtin-java classes where applicable\n"
     ]
    }
   ],
   "source": [
    "spark = SparkSession.builder.appName(\"Spotify\").getOrCreate()"
   ]
  },
  {
   "cell_type": "code",
   "execution_count": 3,
   "id": "2fee0ae2-1b30-4f22-acd1-f6241cd50055",
   "metadata": {},
   "outputs": [
    {
     "data": {
      "text/html": [
       "\n",
       "            <div>\n",
       "                <p><b>SparkSession - in-memory</b></p>\n",
       "                \n",
       "        <div>\n",
       "            <p><b>SparkContext</b></p>\n",
       "\n",
       "            <p><a href=\"http://macbook-air.station:4040\">Spark UI</a></p>\n",
       "\n",
       "            <dl>\n",
       "              <dt>Version</dt>\n",
       "                <dd><code>v3.5.3</code></dd>\n",
       "              <dt>Master</dt>\n",
       "                <dd><code>local[*]</code></dd>\n",
       "              <dt>AppName</dt>\n",
       "                <dd><code>Spotify</code></dd>\n",
       "            </dl>\n",
       "        </div>\n",
       "        \n",
       "            </div>\n",
       "        "
      ],
      "text/plain": [
       "<pyspark.sql.session.SparkSession at 0x109e16330>"
      ]
     },
     "execution_count": 3,
     "metadata": {},
     "output_type": "execute_result"
    }
   ],
   "source": [
    "spark"
   ]
  },
  {
   "cell_type": "markdown",
   "id": "75b02f4e-3999-4c5a-a8da-bcb852dd9ad0",
   "metadata": {},
   "source": [
    "## 2. Data loading and cleaning\n",
    "### 2.1 Read CSV File into DataFrame"
   ]
  },
  {
   "cell_type": "code",
   "execution_count": 4,
   "id": "5130e639-dc8f-4722-ba40-c09288c47119",
   "metadata": {},
   "outputs": [],
   "source": [
    "# Read CSV file into DataFrame with header\n",
    "csv_file_path =(\"./data/spotify-data.csv\")\n",
    "df = spark.read.csv(csv_file_path,header=True)"
   ]
  },
  {
   "cell_type": "code",
   "execution_count": 5,
   "id": "efaf140b-695a-4b30-937f-b3d7707f1c77",
   "metadata": {},
   "outputs": [
    {
     "name": "stdout",
     "output_type": "stream",
     "text": [
      "root\n",
      " |-- id: string (nullable = true)\n",
      " |-- name: string (nullable = true)\n",
      " |-- artists: string (nullable = true)\n",
      " |-- duration_ms: string (nullable = true)\n",
      " |-- release_date: string (nullable = true)\n",
      " |-- year: string (nullable = true)\n",
      " |-- acousticness: string (nullable = true)\n",
      " |-- danceability: string (nullable = true)\n",
      " |-- energy: string (nullable = true)\n",
      " |-- instrumentalness: string (nullable = true)\n",
      " |-- liveness: string (nullable = true)\n",
      " |-- loudness: string (nullable = true)\n",
      " |-- speechiness: string (nullable = true)\n",
      " |-- tempo: string (nullable = true)\n",
      " |-- valence: string (nullable = true)\n",
      " |-- mode: string (nullable = true)\n",
      " |-- key: string (nullable = true)\n",
      " |-- popularity: string (nullable = true)\n",
      " |-- explicit: string (nullable = true)\n",
      "\n"
     ]
    },
    {
     "name": "stderr",
     "output_type": "stream",
     "text": [
      "24/11/14 10:16:26 WARN GarbageCollectionMetrics: To enable non-built-in garbage collector(s) List(G1 Concurrent GC), users should configure it(them) to spark.eventLog.gcMetrics.youngGenerationGarbageCollectors or spark.eventLog.gcMetrics.oldGenerationGarbageCollectors\n"
     ]
    }
   ],
   "source": [
    "# Display schema of DataFrame\n",
    "df.printSchema()"
   ]
  },
  {
   "cell_type": "markdown",
   "id": "0b646ca6-908e-4676-a2dd-e2a4acea0d11",
   "metadata": {},
   "source": [
    "### 2.2. Read CSV File into DataFrame with my_schema"
   ]
  },
  {
   "cell_type": "markdown",
   "id": "a14f7ec0-ca0d-4b2c-9546-17c120e970b5",
   "metadata": {},
   "source": [
    "- id: str, identifier of the track.\n",
    "- name: str, name of the track.\n",
    "- artists: str, artists of the track.\n",
    "- duration_ms: float, duration of the track in milliseconds.\n",
    "- release_date: date, release date of the track.\n",
    "- year: int, release year of the track.\n",
    "- acousticness: float, measure of acousticness of the track.\n",
    "- danceability: float, measure of danceability of the track.\n",
    "- energy: float, measure of energy of the track.\n",
    "- instrumentalness: float, measure of instrumental elements in the track.\n",
    "- liveness: float, measure of liveness of the track.\n",
    "- loudness: float, loudness of the track.\n",
    "- speechiness: float, measure of speechiness in the track.\n",
    "- tempo: float, tempo of the track.\n",
    "- valence: float, measure of valence (positivity) of the track.\n",
    "- mode: int, mode of the track (major or minor).\n",
    "- key: int, key of the track.\n",
    "- popularity: int, popularity score of the track.\n",
    "- explicit: int, indication of explicit content presence (explicit or implicit)."
   ]
  },
  {
   "cell_type": "code",
   "execution_count": 186,
   "id": "71d1341f-aaf6-4666-9a96-1e1f3628235e",
   "metadata": {},
   "outputs": [],
   "source": [
    "df_schema = StructType([\n",
    "    StructField(\"id\", StringType(), True),\n",
    "    StructField(\"name\", StringType(),True),\n",
    "    StructField(\"artists\", StringType(),True),\n",
    "    StructField(\"duration_ms\", DoubleType(), True),\n",
    "    StructField(\"release_date\", StringType(),True),\n",
    "    StructField(\"year\",IntegerType(),True),\n",
    "    StructField(\"acousticness\",DoubleType(),True),\n",
    "    StructField(\"danceability\",DoubleType(),True),\n",
    "    StructField(\"energy\",DoubleType(),True),\n",
    "    StructField(\"instrumentalness\",DoubleType(),True),\n",
    "    StructField(\"liveness\",DoubleType(),True),\n",
    "    StructField(\"loudness\",DoubleType(),True),\n",
    "    StructField(\"speechiness\",DoubleType(),True),\n",
    "    StructField(\"tempo\",DoubleType(),True),\n",
    "    StructField(\"valence\",DoubleType(),True),\n",
    "    StructField(\"mode\",IntegerType(),True),\n",
    "    StructField(\"key\",IntegerType(),True),\n",
    "    StructField(\"popularity\",IntegerType(),True),\n",
    "    StructField(\"explicit\",IntegerType(),True)\n",
    "])"
   ]
  },
  {
   "cell_type": "code",
   "execution_count": 187,
   "id": "31d73f8e-b86e-4b07-a542-5b7ebb51705b",
   "metadata": {},
   "outputs": [],
   "source": [
    "# Read CSV file into DataFrame with header\n",
    "csv_file_path =(\"./data/spotify-data.csv\")\n",
    "df = spark.read.csv(csv_file_path,header=True, schema=df_schema)"
   ]
  },
  {
   "cell_type": "code",
   "execution_count": 188,
   "id": "08a93c81-22a3-4a10-9247-844acd173ae2",
   "metadata": {},
   "outputs": [
    {
     "name": "stdout",
     "output_type": "stream",
     "text": [
      "root\n",
      " |-- id: string (nullable = true)\n",
      " |-- name: string (nullable = true)\n",
      " |-- artists: string (nullable = true)\n",
      " |-- duration_ms: double (nullable = true)\n",
      " |-- release_date: string (nullable = true)\n",
      " |-- year: integer (nullable = true)\n",
      " |-- acousticness: double (nullable = true)\n",
      " |-- danceability: double (nullable = true)\n",
      " |-- energy: double (nullable = true)\n",
      " |-- instrumentalness: double (nullable = true)\n",
      " |-- liveness: double (nullable = true)\n",
      " |-- loudness: double (nullable = true)\n",
      " |-- speechiness: double (nullable = true)\n",
      " |-- tempo: double (nullable = true)\n",
      " |-- valence: double (nullable = true)\n",
      " |-- mode: integer (nullable = true)\n",
      " |-- key: integer (nullable = true)\n",
      " |-- popularity: integer (nullable = true)\n",
      " |-- explicit: integer (nullable = true)\n",
      "\n"
     ]
    }
   ],
   "source": [
    "# Display schema of DataFrame\n",
    "df.printSchema()"
   ]
  },
  {
   "cell_type": "code",
   "execution_count": 189,
   "id": "b98734c6-b023-4b50-aa09-e5a8cafbd7d8",
   "metadata": {},
   "outputs": [
    {
     "name": "stdout",
     "output_type": "stream",
     "text": [
      "+--------------------+--------------------+--------------------+-----------+------------+----+------------+------------+-------+----------------+--------+--------+-----------+-------+-------+----+---+----------+--------+\n",
      "|                  id|                name|             artists|duration_ms|release_date|year|acousticness|danceability| energy|instrumentalness|liveness|loudness|speechiness|  tempo|valence|mode|key|popularity|explicit|\n",
      "+--------------------+--------------------+--------------------+-----------+------------+----+------------+------------+-------+----------------+--------+--------+-----------+-------+-------+----+---+----------+--------+\n",
      "|6KbQ3uYMLKb5jDxLF...|Singende Bataillo...| ['Carl Woitschach']|   158648.0|        1928|1928|       0.995|       0.708|  0.195|           0.563|   0.151| -12.428|     0.0506|118.469|  0.779|   1| 10|         0|       0|\n",
      "|6KuQTIu1KoTTkLXKr...|Fantasiestücke, O...|['Robert Schumann...|   282133.0|        1928|1928|       0.994|       0.379| 0.0135|           0.901|  0.0763| -28.454|     0.0462| 83.972| 0.0767|   1|  8|         0|       0|\n",
      "|6L63VW0PibdM1HDSB...|Chapter 1.18 - Za...|['Seweryn Goszczy...|   104300.0|        1928|1928|       0.604|       0.749|   0.22|             0.0|   0.119| -19.924|      0.929|107.177|   0.88|   0|  5|         0|       0|\n",
      "|6M94FkXd15sOAOQYR...|Bebamos Juntos - ...|['Francisco Canaro']|   180760.0|     9/25/28|1928|       0.995|       0.781|   0.13|           0.887|   0.111| -14.734|     0.0926|108.003|   0.72|   0|  1|         0|       0|\n",
      "|6N6tiFZ9vLTSOIxkj...|Polonaise-Fantais...|['Frédéric Chopin...|   687733.0|        1928|1928|        0.99|        0.21|  0.204|           0.908|   0.098| -16.829|     0.0424| 62.149| 0.0693|   1| 11|         1|       0|\n",
      "|6NxAf7M8DNHOBTmEd...|Scherzo a capricc...|['Felix Mendelsso...|   352600.0|        1928|1928|       0.995|       0.424|   0.12|           0.911|  0.0915| -19.242|     0.0593| 63.521|  0.266|   0|  6|         0|       0|\n",
      "|6O0puPuyrxPjDTHDU...|Valse oubliée No....|['Franz Liszt', '...|   136627.0|        1928|1928|       0.956|       0.444|  0.197|           0.435|  0.0744| -17.226|       0.04| 80.495|  0.305|   1| 11|         0|       0|\n",
      "|6OJjveoYwJdIt76y0...| Per aspera ad astra| ['Carl Woitschach']|   153967.0|        1928|1928|       0.988|       0.555|  0.421|           0.836|   0.105|  -9.878|     0.0474| 123.31|  0.857|   1|  1|         0|       0|\n",
      "|6OaJ8Bh7lsBeYoBmw...|Moneda Corriente ...|['Francisco Canar...|   162493.0|     10/3/28|1928|       0.995|       0.683|  0.207|           0.206|   0.337|  -9.801|      0.127|119.833|  0.493|   0|  9|         0|       0|\n",
      "|6PrZexNb16cabXR8Q...|Chapter 1.3 - Zam...|['Seweryn Goszczy...|   111600.0|        1928|1928|       0.846|       0.674|  0.205|             0.0|    0.17| -20.119|      0.954| 81.249|  0.759|   1|  9|         0|       0|\n",
      "|6QBInZBkQNIQYU9gG...|Piano Sonata No. ...|['Sergei Rachmani...|   590293.0|        1928|1928|       0.994|       0.376| 0.0719|           0.883|   0.196| -21.849|     0.0352| 141.39| 0.0393|   0| 10|         0|       0|\n",
      "|6QIONtzbQCbnmWNwn...|Piano Sonata No. ...|['Frédéric Chopin...|    85133.0|        1928|1928|       0.989|        0.17| 0.0823|           0.911|  0.0962| -30.107|     0.0317| 85.989|  0.346|   0| 10|         1|       0|\n",
      "|6QgdUySTRGVkNo3Kw...|Piano Sonata in E...|['Samuel Barber',...|   338333.0|        1928|1928|        0.99|       0.359| 0.0435|           0.899|   0.109| -20.858|     0.0424| 96.645|  0.042|   1|  7|         0|       0|\n",
      "|6RvSNoCPBZeTR2LyG...|Nachtstücke, Op. ...|['Robert Schumann...|   167333.0|        1928|1928|       0.992|       0.311| 0.0107|           0.883|  0.0954| -35.648|     0.0556|  78.98|  0.216|   1|  5|         0|       0|\n",
      "|6Rwn56jcC0TdGQzbR...|Symphony No. 5 in...|['Ludwig van Beet...|   276563.0|      1/1/28|1928|       0.977|       0.335|  0.105|            0.84|   0.231| -16.049|     0.0716| 80.204|  0.406|   0|  5|         0|       0|\n",
      "|6Sdpmree8xpGWaedA...|A Shropshire Lad:...|['George Butterwo...|   184840.0|        1928|1928|       0.991|       0.319|0.00593|         6.35E-5|  0.0691| -25.789|      0.051| 79.831|  0.169|   0|  7|         0|       0|\n",
      "|6T0mZB7p3qzOifdXZ...|Sonata No. 3, Op....|['Alexander Scria...|   326067.0|        1928|1928|       0.996|       0.319|  0.155|           0.917|   0.126| -18.728|      0.036| 66.947| 0.0488|   1|  4|         0|       0|\n",
      "|6TFuAErGpJ9FpxQQ1...|Invocación al Tan...|['Francisco Canar...|   167107.0|     9/16/28|1928|       0.994|       0.787|  0.156|           0.659|    0.11| -14.056|      0.157|117.167|  0.849|   0|  4|         0|       0|\n",
      "|6UUfiNT82MWBNnmsE...| Where the Bee Sucks|['Thomas Arne', '...|   122533.0|        1928|1928|       0.993|       0.569|   0.15|          0.0015|   0.106| -15.238|     0.0474|  76.93|  0.596|   1|  5|         0|       0|\n",
      "|6Ukl7n0q3Cjd0Og8u...|Tendrás Que Llora...|['Francisco Canaro']|   173707.0|     9/17/28|1928|       0.992|       0.763|  0.132|          0.0693|   0.112| -13.002|     0.0886|111.679|  0.832|   1|  4|         0|       0|\n",
      "+--------------------+--------------------+--------------------+-----------+------------+----+------------+------------+-------+----------------+--------+--------+-----------+-------+-------+----+---+----------+--------+\n",
      "only showing top 20 rows\n",
      "\n"
     ]
    }
   ],
   "source": [
    "# Display content of df\n",
    "df.show()"
   ]
  },
  {
   "cell_type": "code",
   "execution_count": 190,
   "id": "1f089433-bb7c-4680-81a2-1b0d9a4c0ec8",
   "metadata": {},
   "outputs": [
    {
     "name": "stdout",
     "output_type": "stream",
     "text": [
      "+--------------------+--------------------+--------------------+-----------+------------+----+------------+------------+------+----------------+--------+--------+-----------+-------+-------+----+---+----------+--------+\n",
      "|                  id|                name|             artists|duration_ms|release_date|year|acousticness|danceability|energy|instrumentalness|liveness|loudness|speechiness|  tempo|valence|mode|key|popularity|explicit|\n",
      "+--------------------+--------------------+--------------------+-----------+------------+----+------------+------------+------+----------------+--------+--------+-----------+-------+-------+----+---+----------+--------+\n",
      "|6TFuAErGpJ9FpxQQ1...|Invocación al Tan...|['Francisco Canar...|   167107.0|     9/16/28|1928|       0.994|       0.787| 0.156|           0.659|    0.11| -14.056|      0.157|117.167|  0.849|   0|  4|         0|       0|\n",
      "+--------------------+--------------------+--------------------+-----------+------------+----+------------+------------+------+----------------+--------+--------+-----------+-------+-------+----+---+----------+--------+\n",
      "\n"
     ]
    }
   ],
   "source": [
    "df.where(col(\"id\") == \"6TFuAErGpJ9FpxQQ1HC8nM\").show()"
   ]
  },
  {
   "cell_type": "markdown",
   "id": "e1b09653-878a-4a09-ae22-13619612f968",
   "metadata": {},
   "source": [
    "### 3 Calculating basic statistics"
   ]
  },
  {
   "cell_type": "code",
   "execution_count": null,
   "id": "da0beecc-2405-42d9-8483-70ac91fe101c",
   "metadata": {},
   "outputs": [],
   "source": [
    " # 3.1. Transformation of the Columna date"
   ]
  },
  {
   "cell_type": "code",
   "execution_count": 56,
   "id": "2297f0cd-2b40-44ad-8e5f-97f08f5ac9de",
   "metadata": {},
   "outputs": [],
   "source": [
    "#from pyspark.sql.functions import to_date\n",
    "\n",
    "#df = df.withColumn(\"release_date\", to_date(col(\"release_date\"),\"dd/MM/yy\"))"
   ]
  },
  {
   "cell_type": "code",
   "execution_count": 61,
   "id": "5b6654cc-1bfa-4fac-8e52-27d546d9923e",
   "metadata": {},
   "outputs": [],
   "source": [
    "#df.where(col(\"id\") == \"6TFuAErGpJ9FpxQQ1HC8nM\").show()"
   ]
  },
  {
   "cell_type": "code",
   "execution_count": 191,
   "id": "c707863d-0fd1-4016-831d-faa9782e2204",
   "metadata": {},
   "outputs": [
    {
     "name": "stdout",
     "output_type": "stream",
     "text": [
      "+---+----+-------+-----------+------------+----+------------+------------+------+----------------+--------+--------+-----------+-----+-------+----+---+----------+--------+\n",
      "| id|name|artists|duration_ms|release_date|year|acousticness|danceability|energy|instrumentalness|liveness|loudness|speechiness|tempo|valence|mode|key|popularity|explicit|\n",
      "+---+----+-------+-----------+------------+----+------------+------------+------+----------------+--------+--------+-----------+-----+-------+----+---+----------+--------+\n",
      "|  0|   0|      0|       1447|           0| 692|         285|         138|    70|              44|      23|       8|          8|    4|      2|1438|614|       326|     187|\n",
      "+---+----+-------+-----------+------------+----+------------+------------+------+----------------+--------+--------+-----------+-----+-------+----+---+----------+--------+\n",
      "\n"
     ]
    }
   ],
   "source": [
    "null_counts = df.select([count(when(col(c).isNull() | isnan(c), c)).alias(c) for c in df.columns])\n",
    "null_counts.show()\n"
   ]
  },
  {
   "cell_type": "markdown",
   "id": "9be4ef19-9b13-41c0-922d-69cd27c7c3e0",
   "metadata": {},
   "source": [
    "#### 3.1 Row Counting and Unique Values"
   ]
  },
  {
   "cell_type": "code",
   "execution_count": 192,
   "id": "e6c20722-3534-4d1f-bd94-5d4485957c8e",
   "metadata": {},
   "outputs": [
    {
     "name": "stdout",
     "output_type": "stream",
     "text": [
      "Rows: 169909\n",
      "Col: 19\n"
     ]
    }
   ],
   "source": [
    "print(\"Rows:\", df.count())\n",
    "print(\"Col:\", len(df.columns))\n"
   ]
  },
  {
   "cell_type": "code",
   "execution_count": 193,
   "id": "09e00398-74c3-4427-9ce8-0383e44ba89d",
   "metadata": {},
   "outputs": [
    {
     "name": "stdout",
     "output_type": "stream",
     "text": [
      "Column id has 169909 unique\n",
      "Column name has 132895 unique\n",
      "Column artists has 33567 unique\n",
      "Column duration_ms has 49937 unique\n",
      "Column release_date has 12053 unique\n",
      "Column year has 375 unique\n",
      "Column acousticness has 4935 unique\n",
      "Column danceability has 1413 unique\n",
      "Column energy has 2412 unique\n",
      "Column instrumentalness has 5443 unique\n",
      "Column liveness has 2081 unique\n",
      "Column loudness has 25992 unique\n",
      "Column speechiness has 2506 unique\n",
      "Column tempo has 85123 unique\n",
      "Column valence has 2696 unique\n",
      "Column mode has 5 unique\n",
      "Column key has 13 unique\n",
      "Column popularity has 102 unique\n",
      "Column explicit has 71 unique\n"
     ]
    }
   ],
   "source": [
    "for col_name in df.columns:\n",
    "    unique_count = df.select(col_name).distinct().count()\n",
    "    print(f\"Column {col_name} has {unique_count} unique\")"
   ]
  },
  {
   "cell_type": "markdown",
   "id": "4f139139-15ba-477e-910c-3324446b101d",
   "metadata": {},
   "source": [
    "#### 3.2 Descriptive Statistics\n"
   ]
  },
  {
   "cell_type": "code",
   "execution_count": 194,
   "id": "c37bab01-cf15-41ee-8854-4c38527f4d6b",
   "metadata": {},
   "outputs": [
    {
     "name": "stderr",
     "output_type": "stream",
     "text": [
      "[Stage 585:========>                                                (1 + 6) / 7]"
     ]
    },
    {
     "name": "stdout",
     "output_type": "stream",
     "text": [
      "+-------+--------------------+----------------------------+--------------------+------------------+--------------------+------------------+-----------------+------------------+------------------+-----------------+------------------+------------------+-----------------+-----------------+------------------+------------------+-----------------+-----------------+-------------------+\n",
      "|summary|                  id|                        name|             artists|       duration_ms|        release_date|              year|     acousticness|      danceability|            energy| instrumentalness|          liveness|          loudness|      speechiness|            tempo|           valence|              mode|              key|       popularity|           explicit|\n",
      "+-------+--------------------+----------------------------+--------------------+------------------+--------------------+------------------+-----------------+------------------+------------------+-----------------+------------------+------------------+-----------------+-----------------+------------------+------------------+-----------------+-----------------+-------------------+\n",
      "|  count|              169909|                      169909|              169909|            168462|              169909|            169217|           169624|            169771|            169839|           169865|            169886|            169901|           169901|           169905|            169907|            168471|           169295|           169583|             169722|\n",
      "|   mean|                NULL|                    Infinity|                NULL| 231288.1418480132|    6193.66778670272| 2364.329204512549|197.1645370254867|111.97785567892646| 70.88351548936592|34.04904304044075|18.160596771242318| 3.800375127691626|7.298684890419071|118.2752685728231|1.1025985730759738|0.7313959079010631|5.181192592811365|34.72598668498611|0.15230789172882714|\n",
      "| stddev|                NULL|                         NaN|                NULL|120689.89773374025|  42244.432826254044|10908.368278422005|7127.883283076294|   5511.0978554672|4321.7813953980385|3260.780679465746|2990.6417375221617|2140.9559210810553|1472.184747923485|624.7157906911565|13.978222557664571| 6.719617290448192| 3.52105413670431|1308.391764772988| 1.6050060608312173|\n",
      "|    min|000G1xMMuwxNHmwVs...|        !Que Vida! - Mono...| \"\"Cool\"\" (Allegr...|            5108.0| \"\"'Legally Blond...|              1921|              0.0|               0.0|               0.0|              0.0|               0.0|             -60.0|          -49.287|          -41.957|            -35.69|                 0|                0|                0|                  0|\n",
      "|    max|7zzuPsjj9L3M7ikqG...|화려하지 않은 고백 Confes...|            ['黑豹']|         5403500.0|['Wolfgang Amadeu...|            710400|         706400.0|          668333.0|          503320.0|         617626.0|          986987.0|          701187.0|         374547.0|         226240.0|            2011.0|              1951|               11|           538760|                 74|\n",
      "+-------+--------------------+----------------------------+--------------------+------------------+--------------------+------------------+-----------------+------------------+------------------+-----------------+------------------+------------------+-----------------+-----------------+------------------+------------------+-----------------+-----------------+-------------------+\n",
      "\n"
     ]
    },
    {
     "name": "stderr",
     "output_type": "stream",
     "text": [
      "                                                                                "
     ]
    }
   ],
   "source": [
    "df.describe().show()"
   ]
  },
  {
   "cell_type": "markdown",
   "id": "64d5912b-b7b1-4161-b49b-b15ab044356f",
   "metadata": {},
   "source": [
    "### 4. Data cleaning"
   ]
  },
  {
   "cell_type": "markdown",
   "id": "d852dc3a-ace9-428f-94c0-dd9df75e7d8a",
   "metadata": {},
   "source": [
    "#### 4.2 Clean and Standardize release_date\n",
    "##### 4.2.1 Extract day and month of \"date_format\""
   ]
  },
  {
   "cell_type": "code",
   "execution_count": 195,
   "id": "c4cec6c1-b874-4f0f-ba08-fedbc01bb2a6",
   "metadata": {},
   "outputs": [],
   "source": [
    "from pyspark.sql.functions import regexp_extract, col, to_date, when\n",
    "from pyspark.sql import functions as F"
   ]
  },
  {
   "cell_type": "code",
   "execution_count": 138,
   "id": "9a455732-f7c9-4943-9a59-3fa73583040d",
   "metadata": {},
   "outputs": [],
   "source": [
    "#df = df.withColumn(\"year_only\", regexp_extract(col(\"release_date\"),\"^(\\\\d{4})$\",1))\n",
    "#df = df.withColumn(\"date_format\", regexp_extract(col(\"release_date\"),\"^(\\\\d{1,2})/(\\\\d{1,2})/(\\\\d{2})$\",0))"
   ]
  },
  {
   "cell_type": "code",
   "execution_count": 196,
   "id": "65799f28-a290-4fc8-adc4-a02280fddbd6",
   "metadata": {},
   "outputs": [],
   "source": [
    "df = df.withColumn(\"month\", F.split(\"release_date\",\"/\")[0].cast(\"int\"))\n",
    "df = df.withColumn(\"day\", F.split(\"release_date\",\"/\")[1].cast(\"int\"))"
   ]
  },
  {
   "cell_type": "code",
   "execution_count": 197,
   "id": "f643ccff-c797-4fe4-ba0c-51ab897bf043",
   "metadata": {},
   "outputs": [
    {
     "name": "stdout",
     "output_type": "stream",
     "text": [
      "+------------+----+----+-----+\n",
      "|release_date|year| day|month|\n",
      "+------------+----+----+-----+\n",
      "|        1928|1928|NULL| 1928|\n",
      "|        1928|1928|NULL| 1928|\n",
      "|        1928|1928|NULL| 1928|\n",
      "|     9/25/28|1928|  25|    9|\n",
      "|        1928|1928|NULL| 1928|\n",
      "|        1928|1928|NULL| 1928|\n",
      "|        1928|1928|NULL| 1928|\n",
      "|        1928|1928|NULL| 1928|\n",
      "|     10/3/28|1928|   3|   10|\n",
      "|        1928|1928|NULL| 1928|\n",
      "|        1928|1928|NULL| 1928|\n",
      "|        1928|1928|NULL| 1928|\n",
      "|        1928|1928|NULL| 1928|\n",
      "|        1928|1928|NULL| 1928|\n",
      "|      1/1/28|1928|   1|    1|\n",
      "|        1928|1928|NULL| 1928|\n",
      "|        1928|1928|NULL| 1928|\n",
      "|     9/16/28|1928|  16|    9|\n",
      "|        1928|1928|NULL| 1928|\n",
      "|     9/17/28|1928|  17|    9|\n",
      "+------------+----+----+-----+\n",
      "only showing top 20 rows\n",
      "\n"
     ]
    }
   ],
   "source": [
    "df.select(\"release_date\",\"year\",\"day\",\"month\").show()"
   ]
  },
  {
   "cell_type": "markdown",
   "id": "97e63eed-c429-4b7b-b9e4-ffd2ec5f0e5c",
   "metadata": {},
   "source": [
    "##### 4.2.2 Combine year,day, month"
   ]
  },
  {
   "cell_type": "code",
   "execution_count": 198,
   "id": "d168eaca-1bed-4446-a5d8-60c671bb9910",
   "metadata": {},
   "outputs": [],
   "source": [
    "df = df.withColumn(\"date_combined\",\n",
    "                   F.expr(\"make_date(year, month,day)\"))"
   ]
  },
  {
   "cell_type": "code",
   "execution_count": 199,
   "id": "6ae1a8bd-1f42-4028-9621-99d14f18484a",
   "metadata": {},
   "outputs": [
    {
     "name": "stdout",
     "output_type": "stream",
     "text": [
      "+------------+----+----+-----+-------------+\n",
      "|release_date|year| day|month|date_combined|\n",
      "+------------+----+----+-----+-------------+\n",
      "|        1928|1928|NULL| 1928|         NULL|\n",
      "|        1928|1928|NULL| 1928|         NULL|\n",
      "|        1928|1928|NULL| 1928|         NULL|\n",
      "|     9/25/28|1928|  25|    9|   1928-09-25|\n",
      "|        1928|1928|NULL| 1928|         NULL|\n",
      "|        1928|1928|NULL| 1928|         NULL|\n",
      "|        1928|1928|NULL| 1928|         NULL|\n",
      "|        1928|1928|NULL| 1928|         NULL|\n",
      "|     10/3/28|1928|   3|   10|   1928-10-03|\n",
      "|        1928|1928|NULL| 1928|         NULL|\n",
      "|        1928|1928|NULL| 1928|         NULL|\n",
      "|        1928|1928|NULL| 1928|         NULL|\n",
      "|        1928|1928|NULL| 1928|         NULL|\n",
      "|        1928|1928|NULL| 1928|         NULL|\n",
      "|      1/1/28|1928|   1|    1|   1928-01-01|\n",
      "|        1928|1928|NULL| 1928|         NULL|\n",
      "|        1928|1928|NULL| 1928|         NULL|\n",
      "|     9/16/28|1928|  16|    9|   1928-09-16|\n",
      "|        1928|1928|NULL| 1928|         NULL|\n",
      "|     9/17/28|1928|  17|    9|   1928-09-17|\n",
      "+------------+----+----+-----+-------------+\n",
      "only showing top 20 rows\n",
      "\n"
     ]
    }
   ],
   "source": [
    "df.select(\"release_date\",\"year\",\"day\",\"month\",\"date_combined\").show()"
   ]
  },
  {
   "cell_type": "markdown",
   "id": "6b1c8466-d74f-4a7f-8e90-165bac4f8566",
   "metadata": {},
   "source": [
    "##### 4.2.3 Convert `date_combined` to yyyy-MM-dd format "
   ]
  },
  {
   "cell_type": "code",
   "execution_count": 200,
   "id": "32987b1a-a5da-4bd6-ba2b-e6041e036de0",
   "metadata": {},
   "outputs": [],
   "source": [
    "df = df.withColumn(\"formatted_date\",F.date_format(\"date_combined\",\"yyyy-MM-dd\"))"
   ]
  },
  {
   "cell_type": "code",
   "execution_count": 201,
   "id": "851c1f3d-8cce-4bbe-b882-67f8737990b5",
   "metadata": {},
   "outputs": [
    {
     "name": "stdout",
     "output_type": "stream",
     "text": [
      "+------------+----+----+-----+-------------+--------------+\n",
      "|release_date|year| day|month|date_combined|formatted_date|\n",
      "+------------+----+----+-----+-------------+--------------+\n",
      "|        1928|1928|NULL| 1928|         NULL|          NULL|\n",
      "|        1928|1928|NULL| 1928|         NULL|          NULL|\n",
      "|        1928|1928|NULL| 1928|         NULL|          NULL|\n",
      "|     9/25/28|1928|  25|    9|   1928-09-25|    1928-09-25|\n",
      "|        1928|1928|NULL| 1928|         NULL|          NULL|\n",
      "|        1928|1928|NULL| 1928|         NULL|          NULL|\n",
      "|        1928|1928|NULL| 1928|         NULL|          NULL|\n",
      "|        1928|1928|NULL| 1928|         NULL|          NULL|\n",
      "|     10/3/28|1928|   3|   10|   1928-10-03|    1928-10-03|\n",
      "|        1928|1928|NULL| 1928|         NULL|          NULL|\n",
      "|        1928|1928|NULL| 1928|         NULL|          NULL|\n",
      "|        1928|1928|NULL| 1928|         NULL|          NULL|\n",
      "|        1928|1928|NULL| 1928|         NULL|          NULL|\n",
      "|        1928|1928|NULL| 1928|         NULL|          NULL|\n",
      "|      1/1/28|1928|   1|    1|   1928-01-01|    1928-01-01|\n",
      "|        1928|1928|NULL| 1928|         NULL|          NULL|\n",
      "|        1928|1928|NULL| 1928|         NULL|          NULL|\n",
      "|     9/16/28|1928|  16|    9|   1928-09-16|    1928-09-16|\n",
      "|        1928|1928|NULL| 1928|         NULL|          NULL|\n",
      "|     9/17/28|1928|  17|    9|   1928-09-17|    1928-09-17|\n",
      "+------------+----+----+-----+-------------+--------------+\n",
      "only showing top 20 rows\n",
      "\n"
     ]
    }
   ],
   "source": [
    "df.select(\"release_date\",\"year\",\"day\",\"month\",\"date_combined\",\"formatted_date\").show()"
   ]
  },
  {
   "cell_type": "code",
   "execution_count": 202,
   "id": "515ecad2-bc40-4f67-b327-093086ab404b",
   "metadata": {},
   "outputs": [],
   "source": [
    "df = df.drop(\"month\", \"day\", \"date_combined\")"
   ]
  },
  {
   "cell_type": "code",
   "execution_count": 203,
   "id": "81fd608d-66b2-4157-a456-1a563ab433b6",
   "metadata": {},
   "outputs": [],
   "source": [
    "df = df.withColumn(\"formatted_date\",\n",
    "                   F.when(F.col(\"formatted_date\").isNull(),\n",
    "                          F.concat(F.col(\"year\").cast(\"string\"),F.lit(\"-01-01\")))\n",
    "                   .otherwise(F.col(\"formatted_date\")))"
   ]
  },
  {
   "cell_type": "code",
   "execution_count": 204,
   "id": "c9b3163a-bdcc-4eda-a951-e3a5f426f1c4",
   "metadata": {},
   "outputs": [
    {
     "name": "stdout",
     "output_type": "stream",
     "text": [
      "+------------+----+--------------+\n",
      "|release_date|year|formatted_date|\n",
      "+------------+----+--------------+\n",
      "|        1928|1928|    1928-01-01|\n",
      "|        1928|1928|    1928-01-01|\n",
      "|        1928|1928|    1928-01-01|\n",
      "|     9/25/28|1928|    1928-09-25|\n",
      "|        1928|1928|    1928-01-01|\n",
      "|        1928|1928|    1928-01-01|\n",
      "|        1928|1928|    1928-01-01|\n",
      "|        1928|1928|    1928-01-01|\n",
      "|     10/3/28|1928|    1928-10-03|\n",
      "|        1928|1928|    1928-01-01|\n",
      "|        1928|1928|    1928-01-01|\n",
      "|        1928|1928|    1928-01-01|\n",
      "|        1928|1928|    1928-01-01|\n",
      "|        1928|1928|    1928-01-01|\n",
      "|      1/1/28|1928|    1928-01-01|\n",
      "|        1928|1928|    1928-01-01|\n",
      "|        1928|1928|    1928-01-01|\n",
      "|     9/16/28|1928|    1928-09-16|\n",
      "|        1928|1928|    1928-01-01|\n",
      "|     9/17/28|1928|    1928-09-17|\n",
      "+------------+----+--------------+\n",
      "only showing top 20 rows\n",
      "\n"
     ]
    }
   ],
   "source": [
    "df.select(\"release_date\", \"year\", \"formatted_date\").show()"
   ]
  },
  {
   "cell_type": "code",
   "execution_count": 206,
   "id": "feb7a72b-68fc-4188-ac43-dab71cce4dec",
   "metadata": {},
   "outputs": [],
   "source": [
    "df = df.drop(\"release_date\",\"year\")"
   ]
  },
  {
   "cell_type": "code",
   "execution_count": null,
   "id": "69547f38-b1da-48f3-bf8f-9cf4aa82567b",
   "metadata": {},
   "outputs": [],
   "source": []
  },
  {
   "cell_type": "code",
   "execution_count": 207,
   "id": "f1ea2cde-902e-4f92-a6d9-9a0102e08bf9",
   "metadata": {},
   "outputs": [
    {
     "name": "stdout",
     "output_type": "stream",
     "text": [
      "+---+----+-------+-----------+------------+------------+------+----------------+--------+--------+-----------+-----+-------+----+---+----------+--------+--------------+\n",
      "| id|name|artists|duration_ms|acousticness|danceability|energy|instrumentalness|liveness|loudness|speechiness|tempo|valence|mode|key|popularity|explicit|formatted_date|\n",
      "+---+----+-------+-----------+------------+------------+------+----------------+--------+--------+-----------+-----+-------+----+---+----------+--------+--------------+\n",
      "|  0|   0|      0|       1447|         285|         138|    70|              44|      23|       8|          8|    4|      2|1438|614|       326|     187|           692|\n",
      "+---+----+-------+-----------+------------+------------+------+----------------+--------+--------+-----------+-----+-------+----+---+----------+--------+--------------+\n",
      "\n"
     ]
    }
   ],
   "source": [
    "null_counts = df.select([count(when(col(c).isNull() | isnan(c), c)).alias(c) for c in df.columns])\n",
    "null_counts.show()"
   ]
  },
  {
   "cell_type": "code",
   "execution_count": null,
   "id": "9f81c8f7-48d2-4e8c-b3cb-d30668f7abf6",
   "metadata": {},
   "outputs": [],
   "source": []
  }
 ],
 "metadata": {
  "kernelspec": {
   "display_name": "Python 3 (ipykernel)",
   "language": "python",
   "name": "python3"
  },
  "language_info": {
   "codemirror_mode": {
    "name": "ipython",
    "version": 3
   },
   "file_extension": ".py",
   "mimetype": "text/x-python",
   "name": "python",
   "nbconvert_exporter": "python",
   "pygments_lexer": "ipython3",
   "version": "3.12.4"
  }
 },
 "nbformat": 4,
 "nbformat_minor": 5
}

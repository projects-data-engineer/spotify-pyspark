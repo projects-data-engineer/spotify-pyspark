{
 "cells": [
  {
   "cell_type": "markdown",
   "id": "b7fee5a7-423f-4c59-a61e-795e23d046f6",
   "metadata": {},
   "source": [
    "# Curious questions to keep studying"
   ]
  },
  {
   "cell_type": "markdown",
   "id": "e94e4ba7-1e49-4d01-a351-c370d8d2bda5",
   "metadata": {},
   "source": [
    "What is the average length of the most popular songs (e.g., top 10% popularity)?\n",
    "Which genres have the fastest 'tempo' and which have the slowest?\n",
    "Is there any relationship between the popularity of a song and characteristics such as 'valence' (positivity) or 'energy'?\n",
    "How does acousticness vary between genres? Are there genres that tend to have more acoustic songs?\n",
    "Can we observe any trends in popularity or other characteristics according to the year of release?"
   ]
  },
  {
   "cell_type": "code",
   "execution_count": 1,
   "id": "c74df90d-8fa7-4711-906c-a522d87c89fd",
   "metadata": {},
   "outputs": [],
   "source": [
    "from pyspark.sql import SparkSession\n",
    "from pyspark.sql.functions import desc, col, isnan, when, count, mean ,stddev, expr\n",
    "\n",
    "from pyspark.sql.types import StructType, StructField, StringType, DoubleType, DateType, IntegerType"
   ]
  },
  {
   "cell_type": "markdown",
   "id": "d9616780-54b4-486c-82e5-76ccda81267b",
   "metadata": {},
   "source": [
    "# 1. Create a SparkSession"
   ]
  },
  {
   "cell_type": "code",
   "execution_count": 2,
   "id": "23147974-9c62-4fbe-b7d7-946ee3199e2a",
   "metadata": {},
   "outputs": [
    {
     "name": "stderr",
     "output_type": "stream",
     "text": [
      "Setting default log level to \"WARN\".\n",
      "To adjust logging level use sc.setLogLevel(newLevel). For SparkR, use setLogLevel(newLevel).\n",
      "24/11/14 16:45:59 WARN NativeCodeLoader: Unable to load native-hadoop library for your platform... using builtin-java classes where applicable\n"
     ]
    }
   ],
   "source": [
    "spark = SparkSession.builder.appName(\"Spotify Curiosity\").getOrCreate()"
   ]
  },
  {
   "cell_type": "code",
   "execution_count": 3,
   "id": "81eabad8-bc38-4059-98ca-ce5fe4c6d2f3",
   "metadata": {},
   "outputs": [
    {
     "data": {
      "text/html": [
       "\n",
       "            <div>\n",
       "                <p><b>SparkSession - in-memory</b></p>\n",
       "                \n",
       "        <div>\n",
       "            <p><b>SparkContext</b></p>\n",
       "\n",
       "            <p><a href=\"http://macbook-air.station:4040\">Spark UI</a></p>\n",
       "\n",
       "            <dl>\n",
       "              <dt>Version</dt>\n",
       "                <dd><code>v3.5.3</code></dd>\n",
       "              <dt>Master</dt>\n",
       "                <dd><code>local[*]</code></dd>\n",
       "              <dt>AppName</dt>\n",
       "                <dd><code>Spotify Curiosity</code></dd>\n",
       "            </dl>\n",
       "        </div>\n",
       "        \n",
       "            </div>\n",
       "        "
      ],
      "text/plain": [
       "<pyspark.sql.session.SparkSession at 0x1121200e0>"
      ]
     },
     "execution_count": 3,
     "metadata": {},
     "output_type": "execute_result"
    },
    {
     "name": "stderr",
     "output_type": "stream",
     "text": [
      "24/11/14 16:46:13 WARN GarbageCollectionMetrics: To enable non-built-in garbage collector(s) List(G1 Concurrent GC), users should configure it(them) to spark.eventLog.gcMetrics.youngGenerationGarbageCollectors or spark.eventLog.gcMetrics.oldGenerationGarbageCollectors\n"
     ]
    }
   ],
   "source": [
    "spark"
   ]
  },
  {
   "cell_type": "markdown",
   "id": "0c358af4-699f-467e-bf93-fb14ecbea4e7",
   "metadata": {},
   "source": [
    "# 2. Data loading and cleaning¶"
   ]
  },
  {
   "cell_type": "code",
   "execution_count": 7,
   "id": "54839b89-ba7a-475f-ba84-f1b5ee9a62b1",
   "metadata": {},
   "outputs": [],
   "source": [
    "# Read CSV file into DataFrame with header\n",
    "csv_file_path =(\"./data/spotify_cleaned.csv\")\n",
    "df = spark.read.csv(csv_file_path,header=True,inferSchema=True)"
   ]
  },
  {
   "cell_type": "code",
   "execution_count": 8,
   "id": "f2d02162-6528-4660-b911-ef27cbcbb1b6",
   "metadata": {},
   "outputs": [
    {
     "name": "stdout",
     "output_type": "stream",
     "text": [
      "root\n",
      " |-- name: string (nullable = true)\n",
      " |-- artists: string (nullable = true)\n",
      " |-- duration_ms: double (nullable = true)\n",
      " |-- acousticness: double (nullable = true)\n",
      " |-- danceability: double (nullable = true)\n",
      " |-- energy: double (nullable = true)\n",
      " |-- instrumentalness: double (nullable = true)\n",
      " |-- liveness: double (nullable = true)\n",
      " |-- loudness: double (nullable = true)\n",
      " |-- speechiness: double (nullable = true)\n",
      " |-- tempo: double (nullable = true)\n",
      " |-- valence: double (nullable = true)\n",
      " |-- mode: integer (nullable = true)\n",
      " |-- key: integer (nullable = true)\n",
      " |-- popularity: integer (nullable = true)\n",
      " |-- explicit: integer (nullable = true)\n",
      " |-- formatted_date: date (nullable = true)\n",
      " |-- tempo_category: string (nullable = true)\n",
      " |-- duration_category: string (nullable = true)\n",
      "\n"
     ]
    }
   ],
   "source": [
    "df.printSchema()"
   ]
  },
  {
   "cell_type": "code",
   "execution_count": 9,
   "id": "2d7ecdfb-8b7a-4e56-8ab0-abb88d3555cb",
   "metadata": {},
   "outputs": [],
   "source": [
    "popularity_threshold = df.approxQuantile(\"popularity\",[0.9],0.01)[0]"
   ]
  },
  {
   "cell_type": "code",
   "execution_count": null,
   "id": "20d3db42-cf59-4a73-a1f3-1d1722c9377d",
   "metadata": {},
   "outputs": [],
   "source": [
    "top_songs = df.filter(col(\"popularity\")>= popularity_threshold)\n",
    "avg_duration_top_songs = top_songs.selectExpr(\"avg(duration_ms) as avg_duration\").collect()[0][\"avg_duration\"]\n"
   ]
  },
  {
   "cell_type": "code",
   "execution_count": null,
   "id": "51131674-9111-481c-8e11-2d3419cf7792",
   "metadata": {},
   "outputs": [],
   "source": []
  },
  {
   "cell_type": "code",
   "execution_count": null,
   "id": "3b98d513-ebef-4ba3-ba86-adc2f6cfdd21",
   "metadata": {},
   "outputs": [],
   "source": []
  },
  {
   "cell_type": "code",
   "execution_count": null,
   "id": "eee2878d-6d3e-4e36-8100-5f9bfa7f36c3",
   "metadata": {},
   "outputs": [],
   "source": []
  },
  {
   "cell_type": "code",
   "execution_count": null,
   "id": "1232e2d6-ef3d-48fc-ade0-420d2ab1a2d9",
   "metadata": {},
   "outputs": [],
   "source": []
  }
 ],
 "metadata": {
  "kernelspec": {
   "display_name": "Python 3 (ipykernel)",
   "language": "python",
   "name": "python3"
  },
  "language_info": {
   "codemirror_mode": {
    "name": "ipython",
    "version": 3
   },
   "file_extension": ".py",
   "mimetype": "text/x-python",
   "name": "python",
   "nbconvert_exporter": "python",
   "pygments_lexer": "ipython3",
   "version": "3.12.4"
  }
 },
 "nbformat": 4,
 "nbformat_minor": 5
}
